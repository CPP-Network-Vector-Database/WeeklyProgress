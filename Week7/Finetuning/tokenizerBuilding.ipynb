{
  "nbformat": 4,
  "nbformat_minor": 0,
  "metadata": {
    "colab": {
      "provenance": []
    },
    "kernelspec": {
      "name": "python3",
      "display_name": "Python 3"
    },
    "language_info": {
      "name": "python"
    }
  },
  "cells": [
    {
      "cell_type": "code",
      "source": [
        "from tokenizers import Tokenizer, models, pre_tokenizers, processors, trainers, Regex\n",
        "from tokenizers.normalizers import Lowercase, Strip\n",
        "from tokenizers.pre_tokenizers import Whitespace, Split\n",
        "import regex as re\n",
        "import random"
      ],
      "metadata": {
        "id": "afVvQDgzUDj0"
      },
      "execution_count": 10,
      "outputs": []
    },
    {
      "cell_type": "code",
      "source": [
        "# custom pre-tokenizer for handling IPs, ports, and commas\n",
        "def custom_pretokenizer(text):\n",
        "    # make sure everything is in lowercase for consistent formatting\n",
        "    text = text.strip().lower()\n",
        "\n",
        "    # split the IP addresses by the dots and tokenize each chunk of the IP address\n",
        "    text = re.sub(r'(\\d+)\\.(\\d+)\\.(\\d+)\\.(\\d+)', r'\\1 . \\2 . \\3 . \\4', text)\n",
        "\n",
        "    # then tokenize the numbers and words- split on commas\n",
        "    tokens = re.split(r'[, ]+', text)\n",
        "\n",
        "    return [(match.start(), match.end()) for match in re.finditer(r'\\S+', text)]"
      ],
      "metadata": {
        "id": "Q7RcXh4vUFmI"
      },
      "execution_count": 16,
      "outputs": []
    },
    {
      "cell_type": "code",
      "source": [
        "# tokenizer initializaation\n",
        "custom_tokenizer = Tokenizer(models.BPE())"
      ],
      "metadata": {
        "id": "_oj3dJ_8USHF"
      },
      "execution_count": 17,
      "outputs": []
    },
    {
      "cell_type": "code",
      "source": [
        "# set up a normalizer\n",
        "custom_tokenizer.normalizer = Strip()"
      ],
      "metadata": {
        "id": "UQexAgb2UVdP"
      },
      "execution_count": 18,
      "outputs": []
    },
    {
      "cell_type": "code",
      "source": [
        "# setting the pre-tokenizer\n",
        "custom_tokenizer.pre_tokenizer = pre_tokenizers.Sequence([\n",
        "    pre_tokenizers.Split(Regex(r'[,.\\s]+'), behavior=\"isolated\")\n",
        "])"
      ],
      "metadata": {
        "id": "VIc-9cxTUYaX"
      },
      "execution_count": 19,
      "outputs": []
    },
    {
      "cell_type": "code",
      "source": [
        "# set up a trainer to learn the vocabulary\n",
        "trainer = trainers.BpeTrainer(special_tokens=[\"[PAD]\", \"[UNK]\", \"[CLS]\", \"[SEP]\", \"[MASK]\"])"
      ],
      "metadata": {
        "id": "KwgZg2wRUa5j"
      },
      "execution_count": 20,
      "outputs": []
    },
    {
      "cell_type": "code",
      "source": [
        "# random data (randomly generate data of the form <source port>, <source IP>, <source application name>, <destination port>, <destination IP>, <packets transmitted> for proof of concept)\n",
        "def generate_ip():\n",
        "    return '.'.join(str(random.randint(0, 255)) for _ in range(4))\n",
        "\n",
        "def generate_entry():\n",
        "    source_port = random.randint(1024, 65535)\n",
        "    source_ip = generate_ip()\n",
        "    app_name = random.choice([\n",
        "        \"chrome\", \"firefox\", \"edge\", \"ssh\", \"mysql\", \"dnsmasq\",\n",
        "        \"nginx-proxy\", \"apache-tomcat\", \"python-app\", \"dhcp-client\",\n",
        "        \"dns-server\", \"ntp-service\", \"ftp-client\", \"smtp-mail\",\n",
        "        \"telnet-session\", \"snmp-monitor\", \"remote-desktop\",\n",
        "        \"teamviewer\", \"zoom-meeting\", \"slack-chat\",\n",
        "        \"webex-call\", \"ping-tool\", \"traceroute-utility\",\n",
        "        \"arp-mapper\", \"icmp-diagnostic\"\n",
        "    ]) # asked gpt to give me 20 random application names\n",
        "    dest_port = random.choice([80, 443])\n",
        "    dest_ip = generate_ip()\n",
        "    packets_transmitted = random.randint(10, 100)\n",
        "    return f\"{source_port}, {source_ip}, {app_name}, {dest_port}, {dest_ip}, {packets_transmitted}\"\n",
        "\n",
        "data = []\n",
        "\n",
        "for _ in range(100): # generate 100 random entries\n",
        "    data.append(generate_entry())\n",
        "\n",
        "print(\"\\n\".join(data))\n"
      ],
      "metadata": {
        "colab": {
          "base_uri": "https://localhost:8080/"
        },
        "id": "yFs8DZQuUdii",
        "outputId": "d52d3e6f-8a4b-49db-fa4a-081eff17c6e9"
      },
      "execution_count": 21,
      "outputs": [
        {
          "output_type": "stream",
          "name": "stdout",
          "text": [
            "20758, 249.91.33.235, remote-desktop, 443, 100.252.204.170, 40\n",
            "62113, 54.44.143.180, icmp-diagnostic, 80, 246.229.158.239, 96\n",
            "52128, 3.218.128.150, traceroute-utility, 80, 107.88.13.218, 96\n",
            "59895, 136.45.3.192, zoom-meeting, 443, 12.83.107.182, 73\n",
            "23528, 219.13.204.197, python-app, 443, 185.245.243.44, 79\n",
            "35021, 243.252.152.183, firefox, 80, 238.195.67.60, 93\n",
            "41919, 54.211.101.200, edge, 80, 132.90.15.7, 56\n",
            "6384, 246.92.249.52, teamviewer, 443, 189.30.30.189, 11\n",
            "45258, 23.89.48.157, telnet-session, 80, 190.63.172.192, 46\n",
            "44396, 120.135.149.33, python-app, 80, 213.50.184.133, 20\n",
            "62975, 170.97.155.149, webex-call, 80, 151.1.80.98, 79\n",
            "29197, 58.38.172.121, ssh, 443, 133.112.54.63, 67\n",
            "49578, 62.91.21.121, snmp-monitor, 80, 73.223.217.141, 86\n",
            "18346, 127.210.194.59, dhcp-client, 443, 82.53.53.167, 74\n",
            "11095, 2.89.159.16, ping-tool, 443, 218.73.77.42, 56\n",
            "19895, 122.120.117.220, traceroute-utility, 443, 134.186.26.156, 41\n",
            "41731, 76.16.243.47, dns-server, 80, 164.19.24.194, 64\n",
            "11665, 108.162.177.135, ping-tool, 443, 61.255.168.36, 13\n",
            "8566, 219.74.184.22, webex-call, 443, 29.203.156.159, 46\n",
            "4752, 226.54.144.120, smtp-mail, 443, 7.175.15.51, 57\n",
            "24327, 179.106.136.207, snmp-monitor, 80, 76.176.2.100, 21\n",
            "52767, 228.106.59.141, nginx-proxy, 80, 60.203.81.118, 43\n",
            "7003, 204.163.0.237, ssh, 80, 119.233.95.107, 75\n",
            "6008, 9.130.32.181, snmp-monitor, 443, 213.143.51.76, 86\n",
            "13949, 84.253.23.167, webex-call, 80, 243.84.61.4, 19\n",
            "46128, 97.126.247.70, dnsmasq, 80, 4.62.244.199, 82\n",
            "59855, 125.151.246.15, teamviewer, 443, 238.242.194.132, 57\n",
            "59808, 120.74.175.142, mysql, 80, 47.248.63.153, 52\n",
            "21131, 172.18.13.72, ping-tool, 80, 42.94.224.120, 24\n",
            "32003, 111.22.248.24, python-app, 443, 33.61.60.10, 21\n",
            "11214, 207.61.213.193, dhcp-client, 443, 3.220.174.84, 34\n",
            "47023, 146.104.212.11, telnet-session, 80, 197.71.228.224, 48\n",
            "32890, 19.20.115.160, apache-tomcat, 80, 152.172.151.129, 31\n",
            "6432, 186.24.146.115, zoom-meeting, 80, 137.111.237.161, 24\n",
            "30619, 159.114.170.74, ntp-service, 443, 231.58.29.243, 47\n",
            "30762, 70.55.76.48, remote-desktop, 443, 252.24.131.18, 91\n",
            "63322, 132.188.73.238, apache-tomcat, 443, 214.28.248.63, 10\n",
            "44927, 99.252.119.37, ping-tool, 443, 125.72.236.139, 60\n",
            "24315, 245.110.215.22, snmp-monitor, 443, 2.155.90.27, 24\n",
            "36918, 182.46.133.154, icmp-diagnostic, 443, 242.180.199.58, 34\n",
            "1411, 172.169.238.16, icmp-diagnostic, 80, 19.232.167.57, 20\n",
            "52628, 196.155.216.79, slack-chat, 80, 95.69.160.224, 69\n",
            "64680, 55.206.34.103, ssh, 443, 39.71.121.63, 76\n",
            "45411, 19.190.145.78, chrome, 80, 179.70.87.186, 17\n",
            "47785, 248.11.106.227, nginx-proxy, 443, 39.255.61.178, 83\n",
            "31924, 54.72.44.65, firefox, 443, 225.15.243.125, 27\n",
            "35537, 14.233.83.120, zoom-meeting, 443, 43.220.132.218, 34\n",
            "51344, 73.182.64.56, ftp-client, 80, 138.89.173.19, 97\n",
            "43946, 252.178.74.136, chrome, 443, 78.241.61.42, 60\n",
            "23645, 212.89.249.213, ntp-service, 80, 161.209.161.97, 77\n",
            "44864, 187.23.130.226, ftp-client, 443, 75.79.151.250, 78\n",
            "60989, 65.90.119.88, ping-tool, 443, 254.41.252.67, 92\n",
            "42707, 111.39.229.61, traceroute-utility, 443, 94.207.164.145, 59\n",
            "6672, 86.157.211.46, teamviewer, 443, 4.156.255.161, 20\n",
            "26366, 109.159.157.169, traceroute-utility, 443, 11.140.21.227, 62\n",
            "9078, 78.137.133.168, ping-tool, 443, 164.56.67.153, 37\n",
            "16537, 174.62.10.146, arp-mapper, 443, 212.126.1.89, 11\n",
            "26396, 158.159.142.185, edge, 80, 27.167.164.88, 24\n",
            "3242, 12.31.41.160, mysql, 80, 157.78.6.249, 48\n",
            "60067, 210.141.123.191, ssh, 80, 53.252.147.108, 13\n",
            "9315, 212.30.234.152, remote-desktop, 443, 61.62.207.117, 55\n",
            "55923, 14.40.61.244, dns-server, 80, 179.155.114.5, 100\n",
            "33420, 75.235.55.227, dnsmasq, 443, 182.192.83.132, 39\n",
            "43178, 238.48.47.196, nginx-proxy, 80, 49.163.149.55, 79\n",
            "11370, 136.182.156.203, snmp-monitor, 443, 53.170.41.180, 57\n",
            "27199, 141.152.82.198, icmp-diagnostic, 443, 140.148.92.12, 47\n",
            "2087, 131.107.162.77, apache-tomcat, 443, 253.213.191.130, 30\n",
            "51078, 52.102.221.216, ftp-client, 443, 75.67.251.7, 81\n",
            "27857, 126.147.143.47, ping-tool, 443, 199.84.89.94, 91\n",
            "19046, 16.137.82.170, zoom-meeting, 80, 131.162.147.197, 80\n",
            "58134, 127.159.146.30, firefox, 443, 135.238.5.28, 77\n",
            "63292, 80.98.46.241, python-app, 443, 133.196.196.245, 26\n",
            "23772, 252.244.250.219, telnet-session, 80, 200.120.219.45, 90\n",
            "9742, 242.100.77.206, slack-chat, 80, 154.72.40.118, 85\n",
            "2550, 251.78.231.47, chrome, 443, 8.155.226.201, 78\n",
            "54430, 221.49.47.114, python-app, 80, 233.228.121.28, 13\n",
            "30353, 103.93.18.253, dhcp-client, 80, 80.96.112.30, 83\n",
            "32085, 66.156.35.33, mysql, 80, 120.31.254.246, 44\n",
            "61564, 208.123.114.0, dnsmasq, 443, 243.141.252.152, 19\n",
            "32629, 69.37.56.108, dns-server, 80, 79.78.153.153, 25\n",
            "33863, 195.107.112.151, firefox, 443, 219.236.29.198, 99\n",
            "58716, 49.135.71.60, traceroute-utility, 80, 83.154.118.197, 10\n",
            "13478, 142.177.150.167, icmp-diagnostic, 443, 80.182.221.63, 20\n",
            "42318, 150.135.5.46, ping-tool, 443, 110.37.189.224, 99\n",
            "21120, 9.191.176.44, mysql, 443, 135.36.244.221, 48\n",
            "6914, 241.28.206.210, ftp-client, 443, 117.35.114.100, 80\n",
            "8888, 135.190.37.60, webex-call, 80, 132.227.1.42, 60\n",
            "5488, 90.171.73.179, teamviewer, 443, 98.36.120.49, 16\n",
            "64067, 206.153.49.200, slack-chat, 443, 44.77.91.92, 32\n",
            "23090, 18.217.151.145, mysql, 80, 53.214.40.200, 57\n",
            "24880, 133.118.3.109, teamviewer, 443, 155.97.85.43, 92\n",
            "37370, 239.53.46.37, snmp-monitor, 80, 75.76.230.94, 42\n",
            "52078, 195.171.238.48, snmp-monitor, 80, 221.250.207.191, 59\n",
            "6247, 66.155.114.182, webex-call, 80, 187.185.250.115, 31\n",
            "13224, 36.141.20.9, dnsmasq, 443, 140.11.63.134, 82\n",
            "60180, 75.40.194.92, ntp-service, 443, 173.13.216.179, 14\n",
            "45092, 255.18.136.77, chrome, 80, 138.4.49.38, 24\n",
            "35739, 9.57.229.17, ntp-service, 443, 241.70.193.19, 33\n",
            "27298, 195.83.158.205, webex-call, 80, 111.188.76.131, 14\n",
            "48488, 189.227.50.194, dns-server, 80, 251.27.192.139, 48\n"
          ]
        }
      ]
    },
    {
      "cell_type": "code",
      "source": [
        "# Train the tokenizer\n",
        "custom_tokenizer.train_from_iterator(data, trainer)"
      ],
      "metadata": {
        "id": "vDuka9xiVJAw"
      },
      "execution_count": 22,
      "outputs": []
    },
    {
      "cell_type": "code",
      "execution_count": 23,
      "metadata": {
        "colab": {
          "base_uri": "https://localhost:8080/"
        },
        "id": "Im8nDZJDT9Rt",
        "outputId": "f4fdda6c-2013-4e10-e9db-c58e7a55c2de"
      },
      "outputs": [
        {
          "output_type": "stream",
          "name": "stdout",
          "text": [
            "['443', ', ', '192', '.', '168', '.', '1', '.', '1', ', ', 'chrome', ', ', '80', ', ', '93', '.', '184', '.', '216', '.', '34', ', ', '50']\n"
          ]
        }
      ],
      "source": [
        "encoded = custom_tokenizer.encode(\"443, 192.168.1.1, chrome, 80, 93.184.216.34, 50\")\n",
        "print(encoded.tokens)"
      ]
    },
    {
      "cell_type": "code",
      "source": [
        "! pip install huggingface_hub"
      ],
      "metadata": {
        "colab": {
          "base_uri": "https://localhost:8080/"
        },
        "id": "u_ow6QECVLJL",
        "outputId": "b06821c4-6328-4191-fab1-bd9f0ae397ea"
      },
      "execution_count": 24,
      "outputs": [
        {
          "output_type": "stream",
          "name": "stdout",
          "text": [
            "Requirement already satisfied: huggingface_hub in /usr/local/lib/python3.11/dist-packages (0.29.3)\n",
            "Requirement already satisfied: filelock in /usr/local/lib/python3.11/dist-packages (from huggingface_hub) (3.18.0)\n",
            "Requirement already satisfied: fsspec>=2023.5.0 in /usr/local/lib/python3.11/dist-packages (from huggingface_hub) (2025.3.0)\n",
            "Requirement already satisfied: packaging>=20.9 in /usr/local/lib/python3.11/dist-packages (from huggingface_hub) (24.2)\n",
            "Requirement already satisfied: pyyaml>=5.1 in /usr/local/lib/python3.11/dist-packages (from huggingface_hub) (6.0.2)\n",
            "Requirement already satisfied: requests in /usr/local/lib/python3.11/dist-packages (from huggingface_hub) (2.32.3)\n",
            "Requirement already satisfied: tqdm>=4.42.1 in /usr/local/lib/python3.11/dist-packages (from huggingface_hub) (4.67.1)\n",
            "Requirement already satisfied: typing-extensions>=3.7.4.3 in /usr/local/lib/python3.11/dist-packages (from huggingface_hub) (4.13.0)\n",
            "Requirement already satisfied: charset-normalizer<4,>=2 in /usr/local/lib/python3.11/dist-packages (from requests->huggingface_hub) (3.4.1)\n",
            "Requirement already satisfied: idna<4,>=2.5 in /usr/local/lib/python3.11/dist-packages (from requests->huggingface_hub) (3.10)\n",
            "Requirement already satisfied: urllib3<3,>=1.21.1 in /usr/local/lib/python3.11/dist-packages (from requests->huggingface_hub) (2.3.0)\n",
            "Requirement already satisfied: certifi>=2017.4.17 in /usr/local/lib/python3.11/dist-packages (from requests->huggingface_hub) (2025.1.31)\n"
          ]
        }
      ]
    },
    {
      "cell_type": "code",
      "source": [
        "! huggingface-cli login"
      ],
      "metadata": {
        "colab": {
          "base_uri": "https://localhost:8080/"
        },
        "id": "vPF1-b7_WLm7",
        "outputId": "1cdc32e2-af0b-44ec-828d-972fa44f405b"
      },
      "execution_count": 25,
      "outputs": [
        {
          "output_type": "stream",
          "name": "stdout",
          "text": [
            "\n",
            "    _|    _|  _|    _|    _|_|_|    _|_|_|  _|_|_|  _|      _|    _|_|_|      _|_|_|_|    _|_|      _|_|_|  _|_|_|_|\n",
            "    _|    _|  _|    _|  _|        _|          _|    _|_|    _|  _|            _|        _|    _|  _|        _|\n",
            "    _|_|_|_|  _|    _|  _|  _|_|  _|  _|_|    _|    _|  _|  _|  _|  _|_|      _|_|_|    _|_|_|_|  _|        _|_|_|\n",
            "    _|    _|  _|    _|  _|    _|  _|    _|    _|    _|    _|_|  _|    _|      _|        _|    _|  _|        _|\n",
            "    _|    _|    _|_|      _|_|_|    _|_|_|  _|_|_|  _|      _|    _|_|_|      _|        _|    _|    _|_|_|  _|_|_|_|\n",
            "\n",
            "    To log in, `huggingface_hub` requires a token generated from https://huggingface.co/settings/tokens .\n",
            "Enter your token (input will not be visible): \n",
            "Add token as git credential? (Y/n) y\n",
            "Token is valid (permission: fineGrained).\n",
            "The token `IP-FLOW` has been saved to /root/.cache/huggingface/stored_tokens\n",
            "\u001b[1m\u001b[31mCannot authenticate through git-credential as no helper is defined on your machine.\n",
            "You might have to re-authenticate when pushing to the Hugging Face Hub.\n",
            "Run the following command in your terminal in case you want to set the 'store' credential helper as default.\n",
            "\n",
            "git config --global credential.helper store\n",
            "\n",
            "Read https://git-scm.com/book/en/v2/Git-Tools-Credential-Storage for more details.\u001b[0m\n",
            "Token has not been saved to git credential helper.\n",
            "Your token has been saved to /root/.cache/huggingface/token\n",
            "Login successful.\n",
            "The current active token is: `IP-FLOW`\n"
          ]
        }
      ]
    },
    {
      "cell_type": "code",
      "source": [
        "from tokenizers import Tokenizer"
      ],
      "metadata": {
        "id": "TZZg0eyFWrnQ"
      },
      "execution_count": 26,
      "outputs": []
    },
    {
      "cell_type": "code",
      "source": [
        "custom_tokenizer.save(\"ip_flow_tokenizer.json\") # saving this locally"
      ],
      "metadata": {
        "id": "P3z6WmJuWPAi"
      },
      "execution_count": 27,
      "outputs": []
    },
    {
      "cell_type": "code",
      "source": [
        "# now we'll push it to huggingface hub"
      ],
      "metadata": {
        "id": "ZUWKtAuEWteG"
      },
      "execution_count": 28,
      "outputs": []
    },
    {
      "cell_type": "code",
      "source": [
        "from transformers import PreTrainedTokenizerFast\n",
        "from huggingface_hub import HfApi"
      ],
      "metadata": {
        "id": "Ou4sY7ukWyLp"
      },
      "execution_count": 29,
      "outputs": []
    },
    {
      "cell_type": "code",
      "source": [
        "tokenizer = Tokenizer.from_file(\"ip_flow_tokenizer.json\")"
      ],
      "metadata": {
        "id": "F09yS9NjWydN"
      },
      "execution_count": 30,
      "outputs": []
    },
    {
      "cell_type": "code",
      "source": [
        "hf_tokenizer = PreTrainedTokenizerFast(\n",
        "    tokenizer_object=tokenizer,\n",
        "    unk_token=\"[UNK]\",\n",
        "    pad_token=\"[PAD]\",\n",
        "    cls_token=\"[CLS]\",\n",
        "    sep_token=\"[SEP]\",\n",
        "    mask_token=\"[MASK]\"\n",
        ")"
      ],
      "metadata": {
        "id": "j_qGsICgW1XE"
      },
      "execution_count": 31,
      "outputs": []
    },
    {
      "cell_type": "code",
      "source": [
        "hf_tokenizer.push_to_hub(\"namita-ach/ip-flow-tokenizer1\") # here we're splitting the IP addresses into chunks based off the period in between"
      ],
      "metadata": {
        "colab": {
          "base_uri": "https://localhost:8080/",
          "height": 173
        },
        "id": "7BzlaHCgW6lB",
        "outputId": "32ff2a94-f674-4fe3-bf46-a5bfb7b3889e"
      },
      "execution_count": 32,
      "outputs": [
        {
          "output_type": "stream",
          "name": "stderr",
          "text": [
            "/usr/local/lib/python3.11/dist-packages/huggingface_hub/utils/_auth.py:94: UserWarning: \n",
            "The secret `HF_TOKEN` does not exist in your Colab secrets.\n",
            "To authenticate with the Hugging Face Hub, create a token in your settings tab (https://huggingface.co/settings/tokens), set it as secret in your Google Colab and restart your session.\n",
            "You will be able to reuse this secret in all of your notebooks.\n",
            "Please note that authentication is recommended but still optional to access public models or datasets.\n",
            "  warnings.warn(\n"
          ]
        },
        {
          "output_type": "execute_result",
          "data": {
            "text/plain": [
              "CommitInfo(commit_url='https://huggingface.co/namita-ach/ip-flow-tokenizer1/commit/d8a050becc857106f4804ce36729577f94ee8d91', commit_message='Upload tokenizer', commit_description='', oid='d8a050becc857106f4804ce36729577f94ee8d91', pr_url=None, repo_url=RepoUrl('https://huggingface.co/namita-ach/ip-flow-tokenizer1', endpoint='https://huggingface.co', repo_type='model', repo_id='namita-ach/ip-flow-tokenizer1'), pr_revision=None, pr_num=None)"
            ],
            "application/vnd.google.colaboratory.intrinsic+json": {
              "type": "string"
            }
          },
          "metadata": {},
          "execution_count": 32
        }
      ]
    },
    {
      "cell_type": "code",
      "source": [
        "# now let's see if we got the tokenizer\n",
        "from transformers import AutoTokenizer\n",
        "\n",
        "tokenizer = AutoTokenizer.from_pretrained(\"namita-ach/ip-flow-tokenizer\")"
      ],
      "metadata": {
        "colab": {
          "base_uri": "https://localhost:8080/",
          "height": 599
        },
        "id": "CjZknq5BXBT-",
        "outputId": "c9e77797-4ff3-4a8a-c387-eeb5c2ae58b7"
      },
      "execution_count": 33,
      "outputs": [
        {
          "output_type": "error",
          "ename": "OSError",
          "evalue": "namita-ach/ip-flow-tokenizer is not a local folder and is not a valid model identifier listed on 'https://huggingface.co/models'\nIf this is a private repository, make sure to pass a token having permission to this repo either by logging in with `huggingface-cli login` or by passing `token=<your_token>`",
          "traceback": [
            "\u001b[0;31m---------------------------------------------------------------------------\u001b[0m",
            "\u001b[0;31mHTTPError\u001b[0m                                 Traceback (most recent call last)",
            "\u001b[0;32m/usr/local/lib/python3.11/dist-packages/huggingface_hub/utils/_http.py\u001b[0m in \u001b[0;36mhf_raise_for_status\u001b[0;34m(response, endpoint_name)\u001b[0m\n\u001b[1;32m    408\u001b[0m     \u001b[0;32mtry\u001b[0m\u001b[0;34m:\u001b[0m\u001b[0;34m\u001b[0m\u001b[0;34m\u001b[0m\u001b[0m\n\u001b[0;32m--> 409\u001b[0;31m         \u001b[0mresponse\u001b[0m\u001b[0;34m.\u001b[0m\u001b[0mraise_for_status\u001b[0m\u001b[0;34m(\u001b[0m\u001b[0;34m)\u001b[0m\u001b[0;34m\u001b[0m\u001b[0;34m\u001b[0m\u001b[0m\n\u001b[0m\u001b[1;32m    410\u001b[0m     \u001b[0;32mexcept\u001b[0m \u001b[0mHTTPError\u001b[0m \u001b[0;32mas\u001b[0m \u001b[0me\u001b[0m\u001b[0;34m:\u001b[0m\u001b[0;34m\u001b[0m\u001b[0;34m\u001b[0m\u001b[0m\n",
            "\u001b[0;32m/usr/local/lib/python3.11/dist-packages/requests/models.py\u001b[0m in \u001b[0;36mraise_for_status\u001b[0;34m(self)\u001b[0m\n\u001b[1;32m   1023\u001b[0m         \u001b[0;32mif\u001b[0m \u001b[0mhttp_error_msg\u001b[0m\u001b[0;34m:\u001b[0m\u001b[0;34m\u001b[0m\u001b[0;34m\u001b[0m\u001b[0m\n\u001b[0;32m-> 1024\u001b[0;31m             \u001b[0;32mraise\u001b[0m \u001b[0mHTTPError\u001b[0m\u001b[0;34m(\u001b[0m\u001b[0mhttp_error_msg\u001b[0m\u001b[0;34m,\u001b[0m \u001b[0mresponse\u001b[0m\u001b[0;34m=\u001b[0m\u001b[0mself\u001b[0m\u001b[0;34m)\u001b[0m\u001b[0;34m\u001b[0m\u001b[0;34m\u001b[0m\u001b[0m\n\u001b[0m\u001b[1;32m   1025\u001b[0m \u001b[0;34m\u001b[0m\u001b[0m\n",
            "\u001b[0;31mHTTPError\u001b[0m: 404 Client Error: Not Found for url: https://huggingface.co/namita-ach/ip-flow-tokenizer/resolve/main/tokenizer_config.json",
            "\nThe above exception was the direct cause of the following exception:\n",
            "\u001b[0;31mRepositoryNotFoundError\u001b[0m                   Traceback (most recent call last)",
            "\u001b[0;32m/usr/local/lib/python3.11/dist-packages/transformers/utils/hub.py\u001b[0m in \u001b[0;36mcached_files\u001b[0;34m(path_or_repo_id, filenames, cache_dir, force_download, resume_download, proxies, token, revision, local_files_only, subfolder, repo_type, user_agent, _raise_exceptions_for_gated_repo, _raise_exceptions_for_missing_entries, _raise_exceptions_for_connection_errors, _commit_hash, **deprecated_kwargs)\u001b[0m\n\u001b[1;32m    423\u001b[0m             \u001b[0;31m# This is slightly better for only 1 file\u001b[0m\u001b[0;34m\u001b[0m\u001b[0;34m\u001b[0m\u001b[0m\n\u001b[0;32m--> 424\u001b[0;31m             hf_hub_download(\n\u001b[0m\u001b[1;32m    425\u001b[0m                 \u001b[0mpath_or_repo_id\u001b[0m\u001b[0;34m,\u001b[0m\u001b[0;34m\u001b[0m\u001b[0;34m\u001b[0m\u001b[0m\n",
            "\u001b[0;32m/usr/local/lib/python3.11/dist-packages/huggingface_hub/utils/_validators.py\u001b[0m in \u001b[0;36m_inner_fn\u001b[0;34m(*args, **kwargs)\u001b[0m\n\u001b[1;32m    113\u001b[0m \u001b[0;34m\u001b[0m\u001b[0m\n\u001b[0;32m--> 114\u001b[0;31m         \u001b[0;32mreturn\u001b[0m \u001b[0mfn\u001b[0m\u001b[0;34m(\u001b[0m\u001b[0;34m*\u001b[0m\u001b[0margs\u001b[0m\u001b[0;34m,\u001b[0m \u001b[0;34m**\u001b[0m\u001b[0mkwargs\u001b[0m\u001b[0;34m)\u001b[0m\u001b[0;34m\u001b[0m\u001b[0;34m\u001b[0m\u001b[0m\n\u001b[0m\u001b[1;32m    115\u001b[0m \u001b[0;34m\u001b[0m\u001b[0m\n",
            "\u001b[0;32m/usr/local/lib/python3.11/dist-packages/huggingface_hub/file_download.py\u001b[0m in \u001b[0;36mhf_hub_download\u001b[0;34m(repo_id, filename, subfolder, repo_type, revision, library_name, library_version, cache_dir, local_dir, user_agent, force_download, proxies, etag_timeout, token, local_files_only, headers, endpoint, resume_download, force_filename, local_dir_use_symlinks)\u001b[0m\n\u001b[1;32m    861\u001b[0m     \u001b[0;32melse\u001b[0m\u001b[0;34m:\u001b[0m\u001b[0;34m\u001b[0m\u001b[0;34m\u001b[0m\u001b[0m\n\u001b[0;32m--> 862\u001b[0;31m         return _hf_hub_download_to_cache_dir(\n\u001b[0m\u001b[1;32m    863\u001b[0m             \u001b[0;31m# Destination\u001b[0m\u001b[0;34m\u001b[0m\u001b[0;34m\u001b[0m\u001b[0m\n",
            "\u001b[0;32m/usr/local/lib/python3.11/dist-packages/huggingface_hub/file_download.py\u001b[0m in \u001b[0;36m_hf_hub_download_to_cache_dir\u001b[0;34m(cache_dir, repo_id, filename, repo_type, revision, endpoint, etag_timeout, headers, proxies, token, local_files_only, force_download)\u001b[0m\n\u001b[1;32m    968\u001b[0m         \u001b[0;31m# Otherwise, raise appropriate error\u001b[0m\u001b[0;34m\u001b[0m\u001b[0;34m\u001b[0m\u001b[0m\n\u001b[0;32m--> 969\u001b[0;31m         \u001b[0m_raise_on_head_call_error\u001b[0m\u001b[0;34m(\u001b[0m\u001b[0mhead_call_error\u001b[0m\u001b[0;34m,\u001b[0m \u001b[0mforce_download\u001b[0m\u001b[0;34m,\u001b[0m \u001b[0mlocal_files_only\u001b[0m\u001b[0;34m)\u001b[0m\u001b[0;34m\u001b[0m\u001b[0;34m\u001b[0m\u001b[0m\n\u001b[0m\u001b[1;32m    970\u001b[0m \u001b[0;34m\u001b[0m\u001b[0m\n",
            "\u001b[0;32m/usr/local/lib/python3.11/dist-packages/huggingface_hub/file_download.py\u001b[0m in \u001b[0;36m_raise_on_head_call_error\u001b[0;34m(head_call_error, force_download, local_files_only)\u001b[0m\n\u001b[1;32m   1485\u001b[0m         \u001b[0;31m# Unauthorized => likely a token issue => let's raise the actual error\u001b[0m\u001b[0;34m\u001b[0m\u001b[0;34m\u001b[0m\u001b[0m\n\u001b[0;32m-> 1486\u001b[0;31m         \u001b[0;32mraise\u001b[0m \u001b[0mhead_call_error\u001b[0m\u001b[0;34m\u001b[0m\u001b[0;34m\u001b[0m\u001b[0m\n\u001b[0m\u001b[1;32m   1487\u001b[0m     \u001b[0;32melse\u001b[0m\u001b[0;34m:\u001b[0m\u001b[0;34m\u001b[0m\u001b[0;34m\u001b[0m\u001b[0m\n",
            "\u001b[0;32m/usr/local/lib/python3.11/dist-packages/huggingface_hub/file_download.py\u001b[0m in \u001b[0;36m_get_metadata_or_catch_error\u001b[0;34m(repo_id, filename, repo_type, revision, endpoint, proxies, etag_timeout, headers, token, local_files_only, relative_filename, storage_folder)\u001b[0m\n\u001b[1;32m   1375\u001b[0m             \u001b[0;32mtry\u001b[0m\u001b[0;34m:\u001b[0m\u001b[0;34m\u001b[0m\u001b[0;34m\u001b[0m\u001b[0m\n\u001b[0;32m-> 1376\u001b[0;31m                 metadata = get_hf_file_metadata(\n\u001b[0m\u001b[1;32m   1377\u001b[0m                     \u001b[0murl\u001b[0m\u001b[0;34m=\u001b[0m\u001b[0murl\u001b[0m\u001b[0;34m,\u001b[0m \u001b[0mproxies\u001b[0m\u001b[0;34m=\u001b[0m\u001b[0mproxies\u001b[0m\u001b[0;34m,\u001b[0m \u001b[0mtimeout\u001b[0m\u001b[0;34m=\u001b[0m\u001b[0metag_timeout\u001b[0m\u001b[0;34m,\u001b[0m \u001b[0mheaders\u001b[0m\u001b[0;34m=\u001b[0m\u001b[0mheaders\u001b[0m\u001b[0;34m,\u001b[0m \u001b[0mtoken\u001b[0m\u001b[0;34m=\u001b[0m\u001b[0mtoken\u001b[0m\u001b[0;34m\u001b[0m\u001b[0;34m\u001b[0m\u001b[0m\n",
            "\u001b[0;32m/usr/local/lib/python3.11/dist-packages/huggingface_hub/utils/_validators.py\u001b[0m in \u001b[0;36m_inner_fn\u001b[0;34m(*args, **kwargs)\u001b[0m\n\u001b[1;32m    113\u001b[0m \u001b[0;34m\u001b[0m\u001b[0m\n\u001b[0;32m--> 114\u001b[0;31m         \u001b[0;32mreturn\u001b[0m \u001b[0mfn\u001b[0m\u001b[0;34m(\u001b[0m\u001b[0;34m*\u001b[0m\u001b[0margs\u001b[0m\u001b[0;34m,\u001b[0m \u001b[0;34m**\u001b[0m\u001b[0mkwargs\u001b[0m\u001b[0;34m)\u001b[0m\u001b[0;34m\u001b[0m\u001b[0;34m\u001b[0m\u001b[0m\n\u001b[0m\u001b[1;32m    115\u001b[0m \u001b[0;34m\u001b[0m\u001b[0m\n",
            "\u001b[0;32m/usr/local/lib/python3.11/dist-packages/huggingface_hub/file_download.py\u001b[0m in \u001b[0;36mget_hf_file_metadata\u001b[0;34m(url, token, proxies, timeout, library_name, library_version, user_agent, headers)\u001b[0m\n\u001b[1;32m   1295\u001b[0m     \u001b[0;31m# Retrieve metadata\u001b[0m\u001b[0;34m\u001b[0m\u001b[0;34m\u001b[0m\u001b[0m\n\u001b[0;32m-> 1296\u001b[0;31m     r = _request_wrapper(\n\u001b[0m\u001b[1;32m   1297\u001b[0m         \u001b[0mmethod\u001b[0m\u001b[0;34m=\u001b[0m\u001b[0;34m\"HEAD\"\u001b[0m\u001b[0;34m,\u001b[0m\u001b[0;34m\u001b[0m\u001b[0;34m\u001b[0m\u001b[0m\n",
            "\u001b[0;32m/usr/local/lib/python3.11/dist-packages/huggingface_hub/file_download.py\u001b[0m in \u001b[0;36m_request_wrapper\u001b[0;34m(method, url, follow_relative_redirects, **params)\u001b[0m\n\u001b[1;32m    279\u001b[0m     \u001b[0;32mif\u001b[0m \u001b[0mfollow_relative_redirects\u001b[0m\u001b[0;34m:\u001b[0m\u001b[0;34m\u001b[0m\u001b[0;34m\u001b[0m\u001b[0m\n\u001b[0;32m--> 280\u001b[0;31m         response = _request_wrapper(\n\u001b[0m\u001b[1;32m    281\u001b[0m             \u001b[0mmethod\u001b[0m\u001b[0;34m=\u001b[0m\u001b[0mmethod\u001b[0m\u001b[0;34m,\u001b[0m\u001b[0;34m\u001b[0m\u001b[0;34m\u001b[0m\u001b[0m\n",
            "\u001b[0;32m/usr/local/lib/python3.11/dist-packages/huggingface_hub/file_download.py\u001b[0m in \u001b[0;36m_request_wrapper\u001b[0;34m(method, url, follow_relative_redirects, **params)\u001b[0m\n\u001b[1;32m    303\u001b[0m     \u001b[0mresponse\u001b[0m \u001b[0;34m=\u001b[0m \u001b[0mget_session\u001b[0m\u001b[0;34m(\u001b[0m\u001b[0;34m)\u001b[0m\u001b[0;34m.\u001b[0m\u001b[0mrequest\u001b[0m\u001b[0;34m(\u001b[0m\u001b[0mmethod\u001b[0m\u001b[0;34m=\u001b[0m\u001b[0mmethod\u001b[0m\u001b[0;34m,\u001b[0m \u001b[0murl\u001b[0m\u001b[0;34m=\u001b[0m\u001b[0murl\u001b[0m\u001b[0;34m,\u001b[0m \u001b[0;34m**\u001b[0m\u001b[0mparams\u001b[0m\u001b[0;34m)\u001b[0m\u001b[0;34m\u001b[0m\u001b[0;34m\u001b[0m\u001b[0m\n\u001b[0;32m--> 304\u001b[0;31m     \u001b[0mhf_raise_for_status\u001b[0m\u001b[0;34m(\u001b[0m\u001b[0mresponse\u001b[0m\u001b[0;34m)\u001b[0m\u001b[0;34m\u001b[0m\u001b[0;34m\u001b[0m\u001b[0m\n\u001b[0m\u001b[1;32m    305\u001b[0m     \u001b[0;32mreturn\u001b[0m \u001b[0mresponse\u001b[0m\u001b[0;34m\u001b[0m\u001b[0;34m\u001b[0m\u001b[0m\n",
            "\u001b[0;32m/usr/local/lib/python3.11/dist-packages/huggingface_hub/utils/_http.py\u001b[0m in \u001b[0;36mhf_raise_for_status\u001b[0;34m(response, endpoint_name)\u001b[0m\n\u001b[1;32m    457\u001b[0m             )\n\u001b[0;32m--> 458\u001b[0;31m             \u001b[0;32mraise\u001b[0m \u001b[0m_format\u001b[0m\u001b[0;34m(\u001b[0m\u001b[0mRepositoryNotFoundError\u001b[0m\u001b[0;34m,\u001b[0m \u001b[0mmessage\u001b[0m\u001b[0;34m,\u001b[0m \u001b[0mresponse\u001b[0m\u001b[0;34m)\u001b[0m \u001b[0;32mfrom\u001b[0m \u001b[0me\u001b[0m\u001b[0;34m\u001b[0m\u001b[0;34m\u001b[0m\u001b[0m\n\u001b[0m\u001b[1;32m    459\u001b[0m \u001b[0;34m\u001b[0m\u001b[0m\n",
            "\u001b[0;31mRepositoryNotFoundError\u001b[0m: 404 Client Error. (Request ID: Root=1-67ecd8c2-0900fc5d37e92a8570b36d18;693106dc-507c-4001-a31e-6c844d5a7411)\n\nRepository Not Found for url: https://huggingface.co/namita-ach/ip-flow-tokenizer/resolve/main/tokenizer_config.json.\nPlease make sure you specified the correct `repo_id` and `repo_type`.\nIf you are trying to access a private or gated repo, make sure you are authenticated.",
            "\nThe above exception was the direct cause of the following exception:\n",
            "\u001b[0;31mOSError\u001b[0m                                   Traceback (most recent call last)",
            "\u001b[0;32m<ipython-input-33-a1d919c214ae>\u001b[0m in \u001b[0;36m<cell line: 0>\u001b[0;34m()\u001b[0m\n\u001b[1;32m      2\u001b[0m \u001b[0;32mfrom\u001b[0m \u001b[0mtransformers\u001b[0m \u001b[0;32mimport\u001b[0m \u001b[0mAutoTokenizer\u001b[0m\u001b[0;34m\u001b[0m\u001b[0;34m\u001b[0m\u001b[0m\n\u001b[1;32m      3\u001b[0m \u001b[0;34m\u001b[0m\u001b[0m\n\u001b[0;32m----> 4\u001b[0;31m \u001b[0mtokenizer\u001b[0m \u001b[0;34m=\u001b[0m \u001b[0mAutoTokenizer\u001b[0m\u001b[0;34m.\u001b[0m\u001b[0mfrom_pretrained\u001b[0m\u001b[0;34m(\u001b[0m\u001b[0;34m\"namita-ach/ip-flow-tokenizer\"\u001b[0m\u001b[0;34m)\u001b[0m\u001b[0;34m\u001b[0m\u001b[0;34m\u001b[0m\u001b[0m\n\u001b[0m",
            "\u001b[0;32m/usr/local/lib/python3.11/dist-packages/transformers/models/auto/tokenization_auto.py\u001b[0m in \u001b[0;36mfrom_pretrained\u001b[0;34m(cls, pretrained_model_name_or_path, *inputs, **kwargs)\u001b[0m\n\u001b[1;32m    908\u001b[0m \u001b[0;34m\u001b[0m\u001b[0m\n\u001b[1;32m    909\u001b[0m         \u001b[0;31m# Next, let's try to use the tokenizer_config file to get the tokenizer class.\u001b[0m\u001b[0;34m\u001b[0m\u001b[0;34m\u001b[0m\u001b[0m\n\u001b[0;32m--> 910\u001b[0;31m         \u001b[0mtokenizer_config\u001b[0m \u001b[0;34m=\u001b[0m \u001b[0mget_tokenizer_config\u001b[0m\u001b[0;34m(\u001b[0m\u001b[0mpretrained_model_name_or_path\u001b[0m\u001b[0;34m,\u001b[0m \u001b[0;34m**\u001b[0m\u001b[0mkwargs\u001b[0m\u001b[0;34m)\u001b[0m\u001b[0;34m\u001b[0m\u001b[0;34m\u001b[0m\u001b[0m\n\u001b[0m\u001b[1;32m    911\u001b[0m         \u001b[0;32mif\u001b[0m \u001b[0;34m\"_commit_hash\"\u001b[0m \u001b[0;32min\u001b[0m \u001b[0mtokenizer_config\u001b[0m\u001b[0;34m:\u001b[0m\u001b[0;34m\u001b[0m\u001b[0;34m\u001b[0m\u001b[0m\n\u001b[1;32m    912\u001b[0m             \u001b[0mkwargs\u001b[0m\u001b[0;34m[\u001b[0m\u001b[0;34m\"_commit_hash\"\u001b[0m\u001b[0;34m]\u001b[0m \u001b[0;34m=\u001b[0m \u001b[0mtokenizer_config\u001b[0m\u001b[0;34m[\u001b[0m\u001b[0;34m\"_commit_hash\"\u001b[0m\u001b[0;34m]\u001b[0m\u001b[0;34m\u001b[0m\u001b[0;34m\u001b[0m\u001b[0m\n",
            "\u001b[0;32m/usr/local/lib/python3.11/dist-packages/transformers/models/auto/tokenization_auto.py\u001b[0m in \u001b[0;36mget_tokenizer_config\u001b[0;34m(pretrained_model_name_or_path, cache_dir, force_download, resume_download, proxies, token, revision, local_files_only, subfolder, **kwargs)\u001b[0m\n\u001b[1;32m    740\u001b[0m \u001b[0;34m\u001b[0m\u001b[0m\n\u001b[1;32m    741\u001b[0m     \u001b[0mcommit_hash\u001b[0m \u001b[0;34m=\u001b[0m \u001b[0mkwargs\u001b[0m\u001b[0;34m.\u001b[0m\u001b[0mget\u001b[0m\u001b[0;34m(\u001b[0m\u001b[0;34m\"_commit_hash\"\u001b[0m\u001b[0;34m,\u001b[0m \u001b[0;32mNone\u001b[0m\u001b[0;34m)\u001b[0m\u001b[0;34m\u001b[0m\u001b[0;34m\u001b[0m\u001b[0m\n\u001b[0;32m--> 742\u001b[0;31m     resolved_config_file = cached_file(\n\u001b[0m\u001b[1;32m    743\u001b[0m         \u001b[0mpretrained_model_name_or_path\u001b[0m\u001b[0;34m,\u001b[0m\u001b[0;34m\u001b[0m\u001b[0;34m\u001b[0m\u001b[0m\n\u001b[1;32m    744\u001b[0m         \u001b[0mTOKENIZER_CONFIG_FILE\u001b[0m\u001b[0;34m,\u001b[0m\u001b[0;34m\u001b[0m\u001b[0;34m\u001b[0m\u001b[0m\n",
            "\u001b[0;32m/usr/local/lib/python3.11/dist-packages/transformers/utils/hub.py\u001b[0m in \u001b[0;36mcached_file\u001b[0;34m(path_or_repo_id, filename, **kwargs)\u001b[0m\n\u001b[1;32m    264\u001b[0m     \u001b[0;31m`\u001b[0m\u001b[0;31m`\u001b[0m\u001b[0;31m`\u001b[0m\u001b[0;34m\u001b[0m\u001b[0;34m\u001b[0m\u001b[0m\n\u001b[1;32m    265\u001b[0m     \"\"\"\n\u001b[0;32m--> 266\u001b[0;31m     \u001b[0mfile\u001b[0m \u001b[0;34m=\u001b[0m \u001b[0mcached_files\u001b[0m\u001b[0;34m(\u001b[0m\u001b[0mpath_or_repo_id\u001b[0m\u001b[0;34m=\u001b[0m\u001b[0mpath_or_repo_id\u001b[0m\u001b[0;34m,\u001b[0m \u001b[0mfilenames\u001b[0m\u001b[0;34m=\u001b[0m\u001b[0;34m[\u001b[0m\u001b[0mfilename\u001b[0m\u001b[0;34m]\u001b[0m\u001b[0;34m,\u001b[0m \u001b[0;34m**\u001b[0m\u001b[0mkwargs\u001b[0m\u001b[0;34m)\u001b[0m\u001b[0;34m\u001b[0m\u001b[0;34m\u001b[0m\u001b[0m\n\u001b[0m\u001b[1;32m    267\u001b[0m     \u001b[0mfile\u001b[0m \u001b[0;34m=\u001b[0m \u001b[0mfile\u001b[0m\u001b[0;34m[\u001b[0m\u001b[0;36m0\u001b[0m\u001b[0;34m]\u001b[0m \u001b[0;32mif\u001b[0m \u001b[0mfile\u001b[0m \u001b[0;32mis\u001b[0m \u001b[0;32mnot\u001b[0m \u001b[0;32mNone\u001b[0m \u001b[0;32melse\u001b[0m \u001b[0mfile\u001b[0m\u001b[0;34m\u001b[0m\u001b[0;34m\u001b[0m\u001b[0m\n\u001b[1;32m    268\u001b[0m     \u001b[0;32mreturn\u001b[0m \u001b[0mfile\u001b[0m\u001b[0;34m\u001b[0m\u001b[0;34m\u001b[0m\u001b[0m\n",
            "\u001b[0;32m/usr/local/lib/python3.11/dist-packages/transformers/utils/hub.py\u001b[0m in \u001b[0;36mcached_files\u001b[0;34m(path_or_repo_id, filenames, cache_dir, force_download, resume_download, proxies, token, revision, local_files_only, subfolder, repo_type, user_agent, _raise_exceptions_for_gated_repo, _raise_exceptions_for_missing_entries, _raise_exceptions_for_connection_errors, _commit_hash, **deprecated_kwargs)\u001b[0m\n\u001b[1;32m    454\u001b[0m         \u001b[0;31m# We cannot recover from them\u001b[0m\u001b[0;34m\u001b[0m\u001b[0;34m\u001b[0m\u001b[0m\n\u001b[1;32m    455\u001b[0m         \u001b[0;32mif\u001b[0m \u001b[0misinstance\u001b[0m\u001b[0;34m(\u001b[0m\u001b[0me\u001b[0m\u001b[0;34m,\u001b[0m \u001b[0mRepositoryNotFoundError\u001b[0m\u001b[0;34m)\u001b[0m \u001b[0;32mand\u001b[0m \u001b[0;32mnot\u001b[0m \u001b[0misinstance\u001b[0m\u001b[0;34m(\u001b[0m\u001b[0me\u001b[0m\u001b[0;34m,\u001b[0m \u001b[0mGatedRepoError\u001b[0m\u001b[0;34m)\u001b[0m\u001b[0;34m:\u001b[0m\u001b[0;34m\u001b[0m\u001b[0;34m\u001b[0m\u001b[0m\n\u001b[0;32m--> 456\u001b[0;31m             raise EnvironmentError(\n\u001b[0m\u001b[1;32m    457\u001b[0m                 \u001b[0;34mf\"{path_or_repo_id} is not a local folder and is not a valid model identifier \"\u001b[0m\u001b[0;34m\u001b[0m\u001b[0;34m\u001b[0m\u001b[0m\n\u001b[1;32m    458\u001b[0m                 \u001b[0;34m\"listed on 'https://huggingface.co/models'\\nIf this is a private repository, make sure to pass a token \"\u001b[0m\u001b[0;34m\u001b[0m\u001b[0;34m\u001b[0m\u001b[0m\n",
            "\u001b[0;31mOSError\u001b[0m: namita-ach/ip-flow-tokenizer is not a local folder and is not a valid model identifier listed on 'https://huggingface.co/models'\nIf this is a private repository, make sure to pass a token having permission to this repo either by logging in with `huggingface-cli login` or by passing `token=<your_token>`"
          ]
        }
      ]
    },
    {
      "cell_type": "code",
      "source": [],
      "metadata": {
        "id": "RDaflD_IXKJA"
      },
      "execution_count": null,
      "outputs": []
    }
  ]
}